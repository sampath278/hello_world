{
 "cells": [
  {
   "cell_type": "code",
   "execution_count": 1,
   "metadata": {},
   "outputs": [],
   "source": [
    "# Importing libraries\n",
    "import pandas as pd\n",
    "import matplotlib.pyplot as plt\n",
    "import numpy as np"
   ]
  },
  {
   "cell_type": "code",
   "execution_count": 18,
   "metadata": {},
   "outputs": [
    {
     "data": {
      "text/plain": [
       "array([[ 6.1101],\n",
       "       [ 5.5277],\n",
       "       [ 8.5186],\n",
       "       [ 7.0032],\n",
       "       [ 5.8598],\n",
       "       [ 8.3829],\n",
       "       [ 7.4764],\n",
       "       [ 8.5781],\n",
       "       [ 6.4862],\n",
       "       [ 5.0546],\n",
       "       [ 5.7107],\n",
       "       [14.164 ],\n",
       "       [ 5.734 ],\n",
       "       [ 8.4084],\n",
       "       [ 5.6407],\n",
       "       [ 5.3794],\n",
       "       [ 6.3654],\n",
       "       [ 5.1301],\n",
       "       [ 6.4296],\n",
       "       [ 7.0708],\n",
       "       [ 6.1891],\n",
       "       [20.27  ],\n",
       "       [ 5.4901],\n",
       "       [ 6.3261],\n",
       "       [ 5.5649],\n",
       "       [18.945 ],\n",
       "       [12.828 ],\n",
       "       [10.957 ],\n",
       "       [13.176 ],\n",
       "       [22.203 ],\n",
       "       [ 5.2524],\n",
       "       [ 6.5894],\n",
       "       [ 9.2482],\n",
       "       [ 5.8918],\n",
       "       [ 8.2111],\n",
       "       [ 7.9334],\n",
       "       [ 8.0959],\n",
       "       [ 5.6063],\n",
       "       [12.836 ],\n",
       "       [ 6.3534],\n",
       "       [ 5.4069],\n",
       "       [ 6.8825],\n",
       "       [11.708 ],\n",
       "       [ 5.7737],\n",
       "       [ 7.8247],\n",
       "       [ 7.0931],\n",
       "       [ 5.0702],\n",
       "       [ 5.8014],\n",
       "       [11.7   ],\n",
       "       [ 5.5416],\n",
       "       [ 7.5402],\n",
       "       [ 5.3077],\n",
       "       [ 7.4239],\n",
       "       [ 7.6031],\n",
       "       [ 6.3328],\n",
       "       [ 6.3589],\n",
       "       [ 6.2742],\n",
       "       [ 5.6397],\n",
       "       [ 9.3102],\n",
       "       [ 9.4536],\n",
       "       [ 8.8254],\n",
       "       [ 5.1793],\n",
       "       [21.279 ],\n",
       "       [14.908 ],\n",
       "       [18.959 ],\n",
       "       [ 7.2182],\n",
       "       [ 8.2951],\n",
       "       [10.236 ],\n",
       "       [ 5.4994],\n",
       "       [20.341 ],\n",
       "       [10.136 ],\n",
       "       [ 7.3345],\n",
       "       [ 6.0062],\n",
       "       [ 7.2259],\n",
       "       [ 5.0269],\n",
       "       [ 6.5479],\n",
       "       [ 7.5386],\n",
       "       [ 5.0365],\n",
       "       [10.274 ],\n",
       "       [ 5.1077],\n",
       "       [ 5.7292],\n",
       "       [ 5.1884],\n",
       "       [ 6.3557],\n",
       "       [ 9.7687],\n",
       "       [ 6.5159],\n",
       "       [ 8.5172],\n",
       "       [ 9.1802],\n",
       "       [ 6.002 ],\n",
       "       [ 5.5204],\n",
       "       [ 5.0594],\n",
       "       [ 5.7077],\n",
       "       [ 7.6366],\n",
       "       [ 5.8707],\n",
       "       [ 5.3054],\n",
       "       [ 8.2934],\n",
       "       [13.394 ],\n",
       "       [ 5.4369]])"
      ]
     },
     "execution_count": 18,
     "metadata": {},
     "output_type": "execute_result"
    }
   ],
   "source": [
    "# Importing dataset\n",
    "dataset = pd.read_csv ('ex1data1.txt', header = None)\n",
    "X = dataset.iloc[:, :-1].values\n",
    "y = dataset.iloc[:, 1].values\n",
    "X"
   ]
  },
  {
   "cell_type": "raw",
   "metadata": {},
   "source": [
    "You would like to use this data to help you select which city to expand\n",
    "to next.\n",
    "The first column is the population of a city (in 10,000) and the second column is\n",
    "the profit of a food truck (in $10,000) in that city. A negative value for profit indicates a\n",
    "loss."
   ]
  },
  {
   "cell_type": "code",
   "execution_count": 3,
   "metadata": {},
   "outputs": [
    {
     "data": {
      "text/html": [
       "<div>\n",
       "<style scoped>\n",
       "    .dataframe tbody tr th:only-of-type {\n",
       "        vertical-align: middle;\n",
       "    }\n",
       "\n",
       "    .dataframe tbody tr th {\n",
       "        vertical-align: top;\n",
       "    }\n",
       "\n",
       "    .dataframe thead th {\n",
       "        text-align: right;\n",
       "    }\n",
       "</style>\n",
       "<table border=\"1\" class=\"dataframe\">\n",
       "  <thead>\n",
       "    <tr style=\"text-align: right;\">\n",
       "      <th></th>\n",
       "      <th>0</th>\n",
       "      <th>1</th>\n",
       "    </tr>\n",
       "  </thead>\n",
       "  <tbody>\n",
       "    <tr>\n",
       "      <th>0</th>\n",
       "      <td>6.1101</td>\n",
       "      <td>17.5920</td>\n",
       "    </tr>\n",
       "    <tr>\n",
       "      <th>1</th>\n",
       "      <td>5.5277</td>\n",
       "      <td>9.1302</td>\n",
       "    </tr>\n",
       "    <tr>\n",
       "      <th>2</th>\n",
       "      <td>8.5186</td>\n",
       "      <td>13.6620</td>\n",
       "    </tr>\n",
       "    <tr>\n",
       "      <th>3</th>\n",
       "      <td>7.0032</td>\n",
       "      <td>11.8540</td>\n",
       "    </tr>\n",
       "    <tr>\n",
       "      <th>4</th>\n",
       "      <td>5.8598</td>\n",
       "      <td>6.8233</td>\n",
       "    </tr>\n",
       "  </tbody>\n",
       "</table>\n",
       "</div>"
      ],
      "text/plain": [
       "        0        1\n",
       "0  6.1101  17.5920\n",
       "1  5.5277   9.1302\n",
       "2  8.5186  13.6620\n",
       "3  7.0032  11.8540\n",
       "4  5.8598   6.8233"
      ]
     },
     "execution_count": 3,
     "metadata": {},
     "output_type": "execute_result"
    }
   ],
   "source": [
    "dataset.head ()"
   ]
  },
  {
   "cell_type": "code",
   "execution_count": 4,
   "metadata": {},
   "outputs": [
    {
     "name": "stdout",
     "output_type": "stream",
     "text": [
      "<class 'pandas.core.frame.DataFrame'>\n",
      "RangeIndex: 97 entries, 0 to 96\n",
      "Data columns (total 2 columns):\n",
      "0    97 non-null float64\n",
      "1    97 non-null float64\n",
      "dtypes: float64(2)\n",
      "memory usage: 1.6 KB\n"
     ]
    }
   ],
   "source": [
    "dataset.info ()"
   ]
  },
  {
   "cell_type": "raw",
   "metadata": {},
   "source": [
    "# This shows we have 97 values for each column and there are no null values.\n",
    "So we are good to go."
   ]
  },
  {
   "cell_type": "code",
   "execution_count": 5,
   "metadata": {},
   "outputs": [],
   "source": [
    "# Splitting the dataset in Training set and Test set\n",
    "from sklearn.model_selection import train_test_split \n",
    "X_train, X_test, y_train, y_test = train_test_split (X, y, test_size = 0.3, random_state = 0)"
   ]
  },
  {
   "cell_type": "code",
   "execution_count": 6,
   "metadata": {},
   "outputs": [
    {
     "data": {
      "text/plain": [
       "<matplotlib.legend.Legend at 0x7f6811f770f0>"
      ]
     },
     "execution_count": 6,
     "metadata": {},
     "output_type": "execute_result"
    },
    {
     "data": {
      "image/png": "[encoded data removed]",
      "text/plain": [
       "<Figure size 432x288 with 1 Axes>"
      ]
     },
     "metadata": {
      "needs_background": "light"
     },
     "output_type": "display_data"
    }
   ],
   "source": [
    "# Visualizing the Training set and Test set\n",
    "plt.scatter (X_train, y_train, marker = \"+\", color = 'red')\n",
    "plt.scatter (X_test, y_test, marker = '+', color = 'black')\n",
    "plt.xlabel ('Population of city (in 10,000)')\n",
    "plt.ylabel ('Profit (in $10,000)')\n",
    "plt.legend ([\"Train\", 'Test'])"
   ]
  },
  {
   "cell_type": "code",
   "execution_count": 15,
   "metadata": {},
   "outputs": [
    {
     "data": {
      "text/plain": [
       "LinearRegression(copy_X=True, fit_intercept=True, n_jobs=None,\n",
       "         normalize=False)"
      ]
     },
     "execution_count": 15,
     "metadata": {},
     "output_type": "execute_result"
    }
   ],
   "source": [
    "# Fitting Simple Linear Regression to the Training Set\n",
    "from sklearn.linear_model import LinearRegression\n",
    "regressor = LinearRegression ()\n",
    "regressor.fit (X, y)\n"
   ]
  },
  {
   "cell_type": "code",
   "execution_count": 60,
   "metadata": {},
   "outputs": [
    {
     "data": {
      "text/plain": [
       "Text(0, 0.5, 'Profit (in $10,000)')"
      ]
     },
     "execution_count": 60,
     "metadata": {},
     "output_type": "execute_result"
    },
    {
     "data": {
      "image/png": "[encoded data removed]",
      "text/plain": [
       "<Figure size 432x288 with 1 Axes>"
      ]
     },
     "metadata": {
      "needs_background": "light"
     },
     "output_type": "display_data"
    }
   ],
   "source": [
    "# Visualizing Training set results\n",
    "plt.scatter (X_train, y_train, marker = \"+\", color = 'red')\n",
    "plt.plot (X_train, regressor.predict (X_train), color = 'black')\n",
    "plt.xlabel ('Population of city (in 10,000)')\n",
    "plt.ylabel ('Profit (in $10,000)')\n"
   ]
  },
  {
   "cell_type": "code",
   "execution_count": 61,
   "metadata": {},
   "outputs": [
    {
     "data": {
      "text/plain": [
       "Text(0, 0.5, 'Profit (in $10,000)')"
      ]
     },
     "execution_count": 61,
     "metadata": {},
     "output_type": "execute_result"
    },
    {
     "data": {
      "image/png": "[encoded data removed]",
      "text/plain": [
       "<Figure size 432x288 with 1 Axes>"
      ]
     },
     "metadata": {
      "needs_background": "light"
     },
     "output_type": "display_data"
    }
   ],
   "source": [
    "# Visualizing Test set results\n",
    "plt.scatter (X_test, y_test, marker = \"+\", color = 'red')\n",
    "plt.plot (X_test, regressor.predict (X_test), color = 'black')\n",
    "plt.xlabel ('Population of city (in 10,000)')\n",
    "plt.ylabel ('Profit (in $10,000)')\n"
   ]
  },
  {
   "cell_type": "code",
   "execution_count": 71,
   "metadata": {},
   "outputs": [
    {
     "name": "stdout",
     "output_type": "stream",
     "text": [
      "0.5954811247639165\n"
     ]
    },
    {
     "data": {
      "text/plain": [
       "3.0052381746429098"
      ]
     },
     "execution_count": 71,
     "metadata": {},
     "output_type": "execute_result"
    }
   ],
   "source": [
    "# Accuracy \n",
    "from sklearn.metrics import r2_score\n",
    "from sklearn.metrics import mean_squared_error\n",
    "print (r2_score (y_test, regressor.predict (X_test)))\n",
    "np.sqrt (mean_squared_error (y_test, regressor.predict (X_test)))"
   ]
  }
 ],
 "metadata": {
  "kernelspec": {
   "display_name": "Python 3",
   "language": "python",
   "name": "python3"
  },
  "language_info": {
   "codemirror_mode": {
    "name": "ipython",
    "version": 3
   },
   "file_extension": ".py",
   "mimetype": "text/x-python",
   "name": "python",
   "nbconvert_exporter": "python",
   "pygments_lexer": "ipython3",
   "version": "3.7.1"
  }
 },
 "nbformat": 4,
 "nbformat_minor": 2
}
